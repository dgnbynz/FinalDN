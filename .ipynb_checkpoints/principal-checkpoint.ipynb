{
 "cells": [
  {
   "cell_type": "code",
   "execution_count": 6,
   "id": "9dae8724",
   "metadata": {},
   "outputs": [],
   "source": [
    "import numpy as np\n",
    "from skimage import io, filters\n",
    "import cv2"
   ]
  },
  {
   "cell_type": "code",
   "execution_count": 7,
   "id": "198cff51",
   "metadata": {},
   "outputs": [],
   "source": [
    "def extraccion(image):\n",
    "    ##PRE PROCESAMIENTO\n",
    "    aux = cv2.cvtColor(image, cv2.COLOR_BGR2GRAY) #Convertir a escala de grises\n",
    "    ##FILTRACION\n",
    "    aux = cv2.GaussianBlur(aux, (3, 3), 0)   #Aplicar filtro gaussiano\n",
    "    aux = filters.sobel(aux)                 #Aplicar filtro Sobel o Laplaciano\n",
    "    ##EXTRACCION DE RASGOS\n",
    "    hu = cv2.HuMoments(cv2.moments(aux)).flatten()\n",
    "    ##ANALISIS DE LAS CARACTERISTICAS -> PARA MOMENTOS DE HU\n",
    "    return aux, [hu[0], hu[1], hu[3]]"
   ]
  },
  {
   "cell_type": "code",
   "execution_count": 8,
   "id": "271f87bd",
   "metadata": {},
   "outputs": [],
   "source": [
    "#Analisis de la base de datos (Train)\n",
    "CLASS_02 = io.ImageCollection('./Imagenes/Train/CLASS_02/*.png')\n",
    "CLASS_03 = io.ImageCollection('./Imagenes/Train/CLASS_03/*.png')\n",
    "CLASS_04 = io.ImageCollection('./Imagenes/Train/CLASS_04/*.png')\n",
    "CLASS_05 = io.ImageCollection('./Imagenes/Train/CLASS_05/*.png')\n",
    "CLASS_06 = io.ImageCollection('./Imagenes/Train/CLASS_06/*.png')\n",
    "CLASS_07 = io.ImageCollection('./Imagenes/Train/CLASS_07/*.png')\n",
    "CLASS_08 = io.ImageCollection('./Imagenes/Train/CLASS_08/*.png')"
   ]
  },
  {
   "cell_type": "code",
   "execution_count": 9,
   "id": "b8a59b97",
   "metadata": {},
   "outputs": [],
   "source": [
    "#Elemento para cada tipo de carne\n",
    "class Elemento:\n",
    "    def __init__(self):\n",
    "        self.pieza = None\n",
    "        self.image = None\n",
    "        self.caracteristica = []\n",
    "        self.distancia = 0"
   ]
  },
  {
   "cell_type": "code",
   "execution_count": 10,
   "id": "f1aa78b4",
   "metadata": {},
   "outputs": [],
   "source": [
    "#Analisis de datos\n",
    "datos = []\n",
    "i = 0"
   ]
  },
  {
   "cell_type": "code",
   "execution_count": 11,
   "id": "834c5e80",
   "metadata": {},
   "outputs": [
    {
     "name": "stdout",
     "output_type": "stream",
     "text": [
      "CLASS_02 OK\n"
     ]
    }
   ],
   "source": [
    "# Analisis de CLASS_02\n",
    "iter = 0\n",
    "for objeto in CLASS_02:\n",
    "    datos.append(Elemento())\n",
    "    datos[i].pieza = 'CLASS_02'\n",
    "    datos[i].image, datos[i].caracteristica = extraccion(objeto)\n",
    "    i += 1\n",
    "    iter += 1\n",
    "print(\"CLASS_02 OK\")"
   ]
  },
  {
   "cell_type": "code",
   "execution_count": 12,
   "id": "51bbd0e9",
   "metadata": {},
   "outputs": [
    {
     "name": "stdout",
     "output_type": "stream",
     "text": [
      "CLASS_03 OK\n"
     ]
    }
   ],
   "source": [
    "iter = 0\n",
    "for objeto in CLASS_03:\n",
    "    datos.append(Elemento())\n",
    "    datos[i].pieza = 'CLASS_03'\n",
    "    datos[i].image, datos[i].caracteristica = extraccion(objeto)\n",
    "    i += 1\n",
    "    iter += 1\n",
    "print(\"CLASS_03 OK\")"
   ]
  },
  {
   "cell_type": "code",
   "execution_count": 13,
   "id": "8acd548f",
   "metadata": {},
   "outputs": [
    {
     "name": "stdout",
     "output_type": "stream",
     "text": [
      "CLASS_04 OK\n"
     ]
    }
   ],
   "source": [
    "# Analisis de CLASS_04\n",
    "iter = 0\n",
    "for objeto in CLASS_04:\n",
    "    datos.append(Elemento())\n",
    "    datos[i].pieza = 'CLASS_04'\n",
    "    datos[i].image, datos[i].caracteristica = extraccion(objeto)\n",
    "    i += 1\n",
    "    iter += 1\n",
    "print(\"CLASS_04 OK\")"
   ]
  },
  {
   "cell_type": "code",
   "execution_count": 14,
   "id": "02549dc2",
   "metadata": {},
   "outputs": [
    {
     "name": "stdout",
     "output_type": "stream",
     "text": [
      "CLASS_05 OK\n"
     ]
    }
   ],
   "source": [
    "# Analisis de CLASS_05\n",
    "iter = 0\n",
    "for objeto in CLASS_05:\n",
    "    datos.append(Elemento())\n",
    "    datos[i].pieza = 'CLASS_05'\n",
    "    datos[i].image, datos[i].caracteristica = extraccion(objeto)\n",
    "    i += 1\n",
    "    iter += 1\n",
    "print(\"CLASS_05 OK\")"
   ]
  },
  {
   "cell_type": "code",
   "execution_count": 15,
   "id": "a6f673e8",
   "metadata": {},
   "outputs": [
    {
     "name": "stdout",
     "output_type": "stream",
     "text": [
      "CLASS_06 OK\n"
     ]
    }
   ],
   "source": [
    "# Analisis de CLASS_06\n",
    "iter = 0\n",
    "for objeto in CLASS_06:\n",
    "    datos.append(Elemento())\n",
    "    datos[i].pieza = 'CLASS_06'\n",
    "    datos[i].image, datos[i].caracteristica = extraccion(objeto)\n",
    "    i += 1\n",
    "    iter += 1\n",
    "print(\"CLASS_06 OK\")"
   ]
  },
  {
   "cell_type": "code",
   "execution_count": 16,
   "id": "b77e4c4e",
   "metadata": {},
   "outputs": [
    {
     "name": "stdout",
     "output_type": "stream",
     "text": [
      "CLASS_07 OK\n"
     ]
    }
   ],
   "source": [
    "# Analisis de CLASS_07\n",
    "iter = 0\n",
    "for objeto in CLASS_07:\n",
    "    datos.append(Elemento())\n",
    "    datos[i].pieza = 'CLASS_07'\n",
    "    datos[i].image, datos[i].caracteristica = extraccion(objeto)\n",
    "    i += 1\n",
    "    iter += 1\n",
    "print(\"CLASS_07 OK\")"
   ]
  },
  {
   "cell_type": "code",
   "execution_count": 17,
   "id": "0156623c",
   "metadata": {},
   "outputs": [
    {
     "name": "stdout",
     "output_type": "stream",
     "text": [
      "CLASS_08 OK\n"
     ]
    }
   ],
   "source": [
    "# Analisis de CLASS_08\n",
    "iter = 0\n",
    "for objeto in CLASS_08:\n",
    "    datos.append(Elemento())\n",
    "    datos[i].pieza = 'CLASS_08'\n",
    "    datos[i].image, datos[i].caracteristica = extraccion(objeto)\n",
    "    i += 1\n",
    "    iter += 1\n",
    "print(\"CLASS_08 OK\")"
   ]
  },
  {
   "cell_type": "code",
   "execution_count": 18,
   "id": "9802acc1",
   "metadata": {},
   "outputs": [
    {
     "name": "stdout",
     "output_type": "stream",
     "text": [
      "Analisis completo de la base de datos de Train\n",
      "Cantidad de imagenes analizadas: \n",
      "1633\n"
     ]
    }
   ],
   "source": [
    "print(\"Analisis completo de la base de datos de Train\")\n",
    "print(\"Cantidad de imagenes analizadas: \")\n",
    "print(len(datos))"
   ]
  },
  {
   "cell_type": "code",
   "execution_count": null,
   "id": "4fc65612",
   "metadata": {},
   "outputs": [],
   "source": [
    "# Elemento a evaluar\n",
    "test = Elemento()\n",
    "numero = input(\"Introduce numero de la foto: \")"
   ]
  },
  {
   "cell_type": "code",
   "execution_count": null,
   "id": "75902604",
   "metadata": {},
   "outputs": [],
   "source": [
    "nombre = './Imagenes/Test/photo'+str(numero)+'.png'\n",
    "image = io.imread(nombre)"
   ]
  },
  {
   "cell_type": "code",
   "execution_count": null,
   "id": "130ded42",
   "metadata": {},
   "outputs": [],
   "source": [
    "test.image, test.caracteristica = extraccion(image)\n",
    "test.pieza = 'CLASS_02' # label inicial "
   ]
  },
  {
   "cell_type": "code",
   "execution_count": null,
   "id": "7e0ae914",
   "metadata": {},
   "outputs": [],
   "source": [
    "#KNN\n",
    "print(\"\\nInicializacion KNN\")\n",
    "i = 0\n",
    "sum = 0\n",
    "for ft in datos[0].caracteristica:\n",
    "        sum = sum + np.power(np.abs(test.caracteristica[i] - ft), 2)\n",
    "        i += 1\n",
    "d = np.sqrt(sum)\n",
    "\n",
    "for element in datos:\n",
    "    sum = 0\n",
    "    i = 0\n",
    "    for ft in (element.caracteristica):\n",
    "        sum = sum + np.power(np.abs((test.caracteristica[i]) - ft), 2)\n",
    "        i += 1\n",
    "    \n",
    "    element.distancia = np.sqrt(sum)\n",
    "    \n",
    "    if (sum < d):\n",
    "        d = sum\n",
    "        test.pieza = element.pieza\n"
   ]
  },
  {
   "cell_type": "code",
   "execution_count": null,
   "id": "003e6e18",
   "metadata": {},
   "outputs": [],
   "source": [
    "# Algoritmo de ordenamiento de burbuja\n",
    "swap = True\n",
    "while (swap):\n",
    "    swap = False\n",
    "    for i in range(1, len(datos)-1) :\n",
    "        if (datos[i-1].distancia > datos[i].distancia):\n",
    "            aux = datos[i]\n",
    "            datos[i] = datos[i-1]\n",
    "            datos[i-1] = aux\n",
    "            swap = True\n",
    "print(\"\\nPredicciones para KNN con K=2: \")            \n",
    "k = 2\n",
    "for i in range(k):\n",
    "    print(datos[i].pieza)"
   ]
  }
 ],
 "metadata": {
  "kernelspec": {
   "display_name": "Python 3 (ipykernel)",
   "language": "python",
   "name": "python3"
  },
  "language_info": {
   "codemirror_mode": {
    "name": "ipython",
    "version": 3
   },
   "file_extension": ".py",
   "mimetype": "text/x-python",
   "name": "python",
   "nbconvert_exporter": "python",
   "pygments_lexer": "ipython3",
   "version": "3.9.12"
  }
 },
 "nbformat": 4,
 "nbformat_minor": 5
}
