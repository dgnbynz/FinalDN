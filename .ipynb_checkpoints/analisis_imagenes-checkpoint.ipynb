{
 "cells": [
  {
   "cell_type": "code",
   "execution_count": 11,
   "id": "9ee1065e",
   "metadata": {},
   "outputs": [],
   "source": [
    "import numpy as np\n",
    "from matplotlib import pyplot as plt\n",
    "import matplotlib.patches as mpatches\n",
    "plt.rcParams['image.cmap'] = 'gray'\n",
    "from mpl_toolkits.mplot3d import Axes3D\n",
    "from skimage import io, color, img_as_float, filters\n",
    "from skimage.feature import hog\n",
    "import cv2\n",
    "import mahotas"
   ]
  },
  {
   "cell_type": "code",
   "execution_count": 12,
   "id": "19531795",
   "metadata": {},
   "outputs": [],
   "source": [
    "def extraccion(image):\n",
    "    \n",
    "    ##TRANSFORMACION\n",
    "    #Recordar hacer la transformacion de la imagen con el programa Transformacion.py\n",
    "    image = cv2.resize(image, (500, 400))         #Convertir la imagen de 1220x1080 a 500x400\n",
    "    \n",
    "    ##PRE PROCESAMIENTO\n",
    "    aux = cv2.cvtColor(image, cv2.COLOR_BGR2GRAY) #Convertir a escala de grises\n",
    "    \n",
    "    ##FILTRACION\n",
    "    aux = cv2.GaussianBlur(aux, (3, 3), 0)   #Aplicar filtro gaussiano\n",
    "    aux = filters.sobel(aux)                 #Aplicar filtro Sobel o Laplaciano\n",
    "            \n",
    "    ##EXTRACCION DE RASGOS\n",
    "    #haralick=mahotas.features.haralick(aux).mean(axis=0)\n",
    "    hu = cv2.HuMoments(cv2.moments(aux)).flatten()\n",
    "    \n",
    "    ##ANALISIS DE LAS CARACTERISTICAS\n",
    "    #PARA MOMENTOS DE HU\n",
    "    return aux, [hu[0], hu[1], hu[3]]\n"
   ]
  },
  {
   "cell_type": "code",
   "execution_count": 13,
   "id": "2b97a956",
   "metadata": {},
   "outputs": [],
   "source": [
    "#Analisis de la base de datos (YTrain)\n",
    "##Entrenamiento de la base de datos \n",
    "CLASS_02 = io.ImageCollection('./Imagenes/Train/CLASS_02/*.png')\n",
    "CLASS_03 = io.ImageCollection('./Imagenes/Train/CLASS_03/*.png')\n",
    "CLASS_04 = io.ImageCollection('./Imagenes/Train/CLASS_04/*.png')\n",
    "CLASS_05 = io.ImageCollection('./Imagenes/Train/CLASS_05/*.png')\n",
    "CLASS_06 = io.ImageCollection('./Imagenes/Train/CLASS_06/*.png')\n",
    "CLASS_07 = io.ImageCollection('./Imagenes/Train/CLASS_07/*.png')\n",
    "CLASS_08 = io.ImageCollection('./Imagenes/Train/CLASS_08/*.png')"
   ]
  },
  {
   "cell_type": "code",
   "execution_count": 14,
   "id": "1fc72378",
   "metadata": {},
   "outputs": [],
   "source": [
    "#Elemento de ferreteria\n",
    "class Elemento:\n",
    "    def __init__(self):\n",
    "        self.pieza = None\n",
    "        self.image = None\n",
    "        self.caracteristica = []\n",
    "        self.distancia = 0"
   ]
  },
  {
   "cell_type": "code",
   "execution_count": 15,
   "id": "edc750ab",
   "metadata": {},
   "outputs": [
    {
     "data": {
      "image/png": "[encoded data removed]",
      "text/plain": [
       "<Figure size 432x288 with 1 Axes>"
      ]
     },
     "metadata": {
      "needs_background": "light"
     },
     "output_type": "display_data"
    }
   ],
   "source": [
    "#Analisis de datos\n",
    "fig = plt.figure()\n",
    "ax = fig.add_subplot(111, projection='3d')\n",
    "\n",
    "datos = []\n",
    "i = 0"
   ]
  },
  {
   "cell_type": "code",
   "execution_count": 16,
   "id": "b7f63919",
   "metadata": {},
   "outputs": [
    {
     "name": "stdout",
     "output_type": "stream",
     "text": [
      "CLASS_02 OK\n"
     ]
    }
   ],
   "source": [
    "# Analisis de CLASS_02\n",
    "iter = 0\n",
    "for objeto in CLASS_02:\n",
    "    datos.append(Elemento())\n",
    "    datos[i].pieza = 'CLASS_02'\n",
    "    datos[i].image, datos[i].caracteristica = extraccion(objeto)\n",
    "    ax.scatter(datos[i].caracteristica[0], datos[i].caracteristica[1], datos[i].caracteristica[2], c='yellow', marker='o')\n",
    "    i += 1\n",
    "    iter += 1\n",
    "print(\"CLASS_02 OK\")"
   ]
  },
  {
   "cell_type": "code",
   "execution_count": 17,
   "id": "875ffdeb",
   "metadata": {},
   "outputs": [
    {
     "name": "stdout",
     "output_type": "stream",
     "text": [
      "CLASS_03 OK\n"
     ]
    }
   ],
   "source": [
    "# Analisis de CLASS_03\n",
    "iter = 0\n",
    "for objeto in CLASS_03:\n",
    "    datos.append(Elemento())\n",
    "    datos[i].pieza = 'CLASS_03'\n",
    "    datos[i].image, datos[i].caracteristica = extraccion(objeto)\n",
    "    ax.scatter(datos[i].caracteristica[0], datos[i].caracteristica[1], datos[i].caracteristica[2], c='blue', marker='o')\n",
    "    i += 1\n",
    "    iter += 1\n",
    "print(\"CLASS_03 OK\")"
   ]
  },
  {
   "cell_type": "code",
   "execution_count": 18,
   "id": "9e29bd2d",
   "metadata": {},
   "outputs": [
    {
     "name": "stdout",
     "output_type": "stream",
     "text": [
      "CLASS_04 OK\n"
     ]
    }
   ],
   "source": [
    "# Analisis de CLASS_04\n",
    "iter = 0\n",
    "for objeto in CLASS_04:\n",
    "    datos.append(Elemento())\n",
    "    datos[i].pieza = 'CLASS_04'\n",
    "    datos[i].image, datos[i].caracteristica = extraccion(objeto)\n",
    "    ax.scatter(datos[i].caracteristica[0], datos[i].caracteristica[1], datos[i].caracteristica[2], c='green', marker='o')\n",
    "    i += 1\n",
    "    iter += 1\n",
    "print(\"CLASS_04 OK\")"
   ]
  },
  {
   "cell_type": "code",
   "execution_count": 19,
   "id": "7dd52727",
   "metadata": {},
   "outputs": [
    {
     "name": "stdout",
     "output_type": "stream",
     "text": [
      "CLASS_05 OK\n"
     ]
    }
   ],
   "source": [
    "# Analisis de CLASS_05\n",
    "iter = 0\n",
    "for objeto in CLASS_05:\n",
    "    datos.append(Elemento())\n",
    "    datos[i].pieza = 'CLASS_05'\n",
    "    datos[i].image, datos[i].caracteristica = extraccion(objeto)\n",
    "    ax.scatter(datos[i].caracteristica[0], datos[i].caracteristica[1], datos[i].caracteristica[2], c='black', marker='o')\n",
    "    i += 1\n",
    "    iter += 1\n",
    "print(\"CLASS_05 OK\")"
   ]
  },
  {
   "cell_type": "code",
   "execution_count": 20,
   "id": "e4849981",
   "metadata": {},
   "outputs": [
    {
     "name": "stdout",
     "output_type": "stream",
     "text": [
      "CLASS_06 OK\n"
     ]
    }
   ],
   "source": [
    "# Analisis de CLASS_06\n",
    "iter = 0\n",
    "for objeto in CLASS_06:\n",
    "    datos.append(Elemento())\n",
    "    datos[i].pieza = 'CLASS_06'\n",
    "    datos[i].image, datos[i].caracteristica = extraccion(objeto)\n",
    "    ax.scatter(datos[i].caracteristica[0], datos[i].caracteristica[1], datos[i].caracteristica[2], c='red', marker='o')\n",
    "    i += 1\n",
    "    iter += 1\n",
    "print(\"CLASS_06 OK\")"
   ]
  },
  {
   "cell_type": "code",
   "execution_count": 21,
   "id": "acb01caf",
   "metadata": {},
   "outputs": [
    {
     "name": "stdout",
     "output_type": "stream",
     "text": [
      "CLASS_07 OK\n"
     ]
    }
   ],
   "source": [
    "# Analisis de CLASS_07\n",
    "iter = 0\n",
    "for objeto in CLASS_07:\n",
    "    datos.append(Elemento())\n",
    "    datos[i].pieza = 'CLASS_07'\n",
    "    datos[i].image, datos[i].caracteristica = extraccion(objeto)\n",
    "    ax.scatter(datos[i].caracteristica[0], datos[i].caracteristica[1], datos[i].caracteristica[2], c='pink', marker='o')\n",
    "    i += 1\n",
    "    iter += 1\n",
    "print(\"CLASS_07 OK\")"
   ]
  },
  {
   "cell_type": "code",
   "execution_count": 22,
   "id": "2d2483f6",
   "metadata": {},
   "outputs": [
    {
     "name": "stdout",
     "output_type": "stream",
     "text": [
      "CLASS_08 OK\n"
     ]
    }
   ],
   "source": [
    "iter = 0\n",
    "for objeto in CLASS_08:\n",
    "    datos.append(Elemento())\n",
    "    datos[i].pieza = 'CLASS_08'\n",
    "    datos[i].image, datos[i].caracteristica = extraccion(objeto)\n",
    "    ax.scatter(datos[i].caracteristica[0], datos[i].caracteristica[1], datos[i].caracteristica[2], c='purple', marker='o')\n",
    "    i += 1\n",
    "    iter += 1\n",
    "print(\"CLASS_08 OK\")"
   ]
  },
  {
   "cell_type": "code",
   "execution_count": 23,
   "id": "96eac8d7",
   "metadata": {},
   "outputs": [
    {
     "data": {
      "text/plain": [
       "Text(0.5, 0.92, 'Analisis completo de Train')"
      ]
     },
     "execution_count": 23,
     "metadata": {},
     "output_type": "execute_result"
    }
   ],
   "source": [
    "ax.grid(True)\n",
    "ax.set_title(\"Analisis completo de Train\")"
   ]
  },
  {
   "cell_type": "code",
   "execution_count": 24,
   "id": "0a5b78f3",
   "metadata": {},
   "outputs": [],
   "source": [
    "yellow_patch = mpatches.Patch(color='yellow', label='CLASS_02')\n",
    "blue_patch = mpatches.Patch(color='blue', label='CLASS_03')\n",
    "green_patch = mpatches.Patch(color='green', label='CLASS_04')\n",
    "black_patch = mpatches.Patch(color='black', label='CLASS_05')\n",
    "red_patch = mpatches.Patch(color='red', label='CLASS_06')\n",
    "pink_patch = mpatches.Patch(color='pink', label='CLASS_07')\n",
    "purple_patch = mpatches.Patch(color='purple', label='CLASS_08')"
   ]
  },
  {
   "cell_type": "code",
   "execution_count": 29,
   "id": "6284d574",
   "metadata": {},
   "outputs": [
    {
     "data": {
      "text/plain": [
       "<matplotlib.legend.Legend at 0x19c58298e80>"
      ]
     },
     "execution_count": 29,
     "metadata": {},
     "output_type": "execute_result"
    },
    {
     "data": {
      "image/png": "[encoded data removed]",
      "text/plain": [
       "<Figure size 432x288 with 1 Axes>"
      ]
     },
     "metadata": {
      "needs_background": "light"
     },
     "output_type": "display_data"
    }
   ],
   "source": [
    "plt.legend(handles=[yellow_patch, blue_patch, green_patch, black_patch, red_patch, pink_patch, purple_patch])"
   ]
  },
  {
   "cell_type": "code",
   "execution_count": 30,
   "id": "42ea14b8",
   "metadata": {},
   "outputs": [
    {
     "data": {
      "text/plain": [
       "Text(0.11410640661270847, 0.015287359751546192, 'componente 4')"
      ]
     },
     "execution_count": 30,
     "metadata": {},
     "output_type": "execute_result"
    }
   ],
   "source": [
    "ax.set_xlabel('componente 1')\n",
    "ax.set_ylabel('componente 2')\n",
    "ax.set_zlabel('componente 4')"
   ]
  },
  {
   "cell_type": "code",
   "execution_count": 31,
   "id": "e0a08741",
   "metadata": {},
   "outputs": [],
   "source": [
    "plt.show()"
   ]
  },
  {
   "cell_type": "code",
   "execution_count": 32,
   "id": "d9effd94",
   "metadata": {},
   "outputs": [
    {
     "name": "stdout",
     "output_type": "stream",
     "text": [
      "Analisis completo de la base de datos de Train\n",
      "Cantidad de imagenes analizadas: \n",
      "1633\n"
     ]
    }
   ],
   "source": [
    "print(\"Analisis completo de la base de datos de Train\")\n",
    "print(\"Cantidad de imagenes analizadas: \")\n",
    "print(len(datos))"
   ]
  }
 ],
 "metadata": {
  "kernelspec": {
   "display_name": "Python 3 (ipykernel)",
   "language": "python",
   "name": "python3"
  },
  "language_info": {
   "codemirror_mode": {
    "name": "ipython",
    "version": 3
   },
   "file_extension": ".py",
   "mimetype": "text/x-python",
   "name": "python",
   "nbconvert_exporter": "python",
   "pygments_lexer": "ipython3",
   "version": "3.9.12"
  }
 },
 "nbformat": 4,
 "nbformat_minor": 5
}
